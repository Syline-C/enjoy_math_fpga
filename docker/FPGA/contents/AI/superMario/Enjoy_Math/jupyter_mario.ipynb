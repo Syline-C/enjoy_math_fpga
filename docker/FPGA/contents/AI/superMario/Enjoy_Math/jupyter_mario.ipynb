{
 "cells": [
  {
   "cell_type": "code",
   "execution_count": 1,
   "id": "659c4505",
   "metadata": {},
   "outputs": [
    {
     "name": "stderr",
     "output_type": "stream",
     "text": [
      "Warning: Gym version v0.24.1 has a number of critical issues with `gym.make` such that environment observation and action spaces are incorrectly evaluated, raising incorrect errors and warning . It is recommend to downgrading to v0.23.1 or upgrading to v0.25.1\n"
     ]
    }
   ],
   "source": [
    "import main as mario"
   ]
  },
  {
   "cell_type": "code",
   "execution_count": 2,
   "id": "50d121ea",
   "metadata": {},
   "outputs": [
    {
     "name": "stderr",
     "output_type": "stream",
     "text": [
      "/root/miniconda3/envs/super_mario/lib/python3.8/site-packages/gym/envs/registration.py:564: UserWarning: \u001b[33mWARN: The environment SuperMarioBros-v0 is out of date. You should consider upgrading to version `v3`.\u001b[0m\n",
      "  logger.warn(\n",
      "/root/miniconda3/envs/super_mario/lib/python3.8/site-packages/gym/utils/passive_env_checker.py:97: UserWarning: \u001b[33mWARN: We recommend you to use a symmetric and normalized Box action space (range=[-1, 1]) https://stable-baselines3.readthedocs.io/en/master/guide/rl_tips.html\u001b[0m\n",
      "  logger.warn(\n"
     ]
    }
   ],
   "source": [
    "mario.init_env()"
   ]
  },
  {
   "cell_type": "code",
   "execution_count": 3,
   "id": "d7b7124e",
   "metadata": {},
   "outputs": [
    {
     "name": "stdout",
     "output_type": "stream",
     "text": [
      "0.0\n"
     ]
    },
    {
     "name": "stderr",
     "output_type": "stream",
     "text": [
      "/home/conda/superMario/Enjoy_Math/builder.py:62: SyntaxWarning: \"is not\" with a literal. Did you mean \"!=\"?\n",
      "  if action is not 'None':\n",
      "/home/conda/superMario/Enjoy_Math/builder.py:62: SyntaxWarning: \"is not\" with a literal. Did you mean \"!=\"?\n",
      "  if action is not 'None':\n"
     ]
    },
    {
     "ename": "AttributeError",
     "evalue": "'superMarioActionCoordinator' object has no attribute 'stepNum'",
     "output_type": "error",
     "traceback": [
      "\u001b[0;31m---------------------------------------------------------------------------\u001b[0m",
      "\u001b[0;31mAttributeError\u001b[0m                            Traceback (most recent call last)",
      "Input \u001b[0;32mIn [3]\u001b[0m, in \u001b[0;36m<cell line: 1>\u001b[0;34m()\u001b[0m\n\u001b[1;32m      1\u001b[0m \u001b[38;5;28;01mfor\u001b[39;00m i \u001b[38;5;129;01min\u001b[39;00m \u001b[38;5;28mrange\u001b[39m(\u001b[38;5;241m3\u001b[39m):\n\u001b[0;32m----> 2\u001b[0m     state, reward, done \u001b[38;5;241m=\u001b[39m \u001b[43mmario\u001b[49m\u001b[38;5;241;43m.\u001b[39;49m\u001b[43mset_action_and_step\u001b[49m\u001b[43m(\u001b[49m\u001b[38;5;241;43m1\u001b[39;49m\u001b[43m)\u001b[49m\n\u001b[1;32m      3\u001b[0m \u001b[38;5;66;03m#    mario.set_action_and_step(1)\u001b[39;00m\n\u001b[1;32m      4\u001b[0m     \u001b[38;5;28mprint\u001b[39m(reward)\n",
      "File \u001b[0;32m/home/conda/superMario/Enjoy_Math/main.py:40\u001b[0m, in \u001b[0;36mset_action_and_step\u001b[0;34m(action)\u001b[0m\n\u001b[1;32m     37\u001b[0m     done \u001b[38;5;241m=\u001b[39m \u001b[38;5;28;01mFalse\u001b[39;00m\n\u001b[1;32m     38\u001b[0m \u001b[38;5;28;01melse\u001b[39;00m:\n\u001b[0;32m---> 40\u001b[0m     state, reward, done \u001b[38;5;241m=\u001b[39m \u001b[43menv\u001b[49m\u001b[38;5;241;43m.\u001b[39;49m\u001b[43mstep\u001b[49m\u001b[43m(\u001b[49m\u001b[43maction\u001b[49m\u001b[43m)\u001b[49m\n\u001b[1;32m     41\u001b[0m     window \u001b[38;5;241m=\u001b[39m env\u001b[38;5;241m.\u001b[39mrender(reward)\n\u001b[1;32m     42\u001b[0m     \u001b[38;5;66;03m#window.dispatch_events()\u001b[39;00m\n",
      "File \u001b[0;32m/home/conda/superMario/Enjoy_Math/builder.py:63\u001b[0m, in \u001b[0;36msuperMario.step\u001b[0;34m(self, action)\u001b[0m\n\u001b[1;32m     61\u001b[0m \u001b[38;5;28;01melif\u001b[39;00m \u001b[38;5;28mself\u001b[39m\u001b[38;5;241m.\u001b[39mmode \u001b[38;5;241m==\u001b[39m \u001b[38;5;124m'\u001b[39m\u001b[38;5;124minteractive\u001b[39m\u001b[38;5;124m'\u001b[39m:\n\u001b[1;32m     62\u001b[0m     \u001b[38;5;28;01mif\u001b[39;00m action \u001b[38;5;129;01mis\u001b[39;00m \u001b[38;5;129;01mnot\u001b[39;00m \u001b[38;5;124m'\u001b[39m\u001b[38;5;124mNone\u001b[39m\u001b[38;5;124m'\u001b[39m:\n\u001b[0;32m---> 63\u001b[0m         \u001b[38;5;28;01mreturn\u001b[39;00m \u001b[38;5;28;43mself\u001b[39;49m\u001b[38;5;241;43m.\u001b[39;49m\u001b[43mmarioFacade\u001b[49m\u001b[38;5;241;43m.\u001b[39;49m\u001b[43minteractiveStep\u001b[49m\u001b[43m(\u001b[49m\u001b[43maction\u001b[49m\u001b[43m)\u001b[49m\n",
      "File \u001b[0;32m/home/conda/superMario/Enjoy_Math/supermario/facade/marioFacade.py:73\u001b[0m, in \u001b[0;36mmarioFacade.interactiveStep\u001b[0;34m(self, action)\u001b[0m\n\u001b[1;32m     66\u001b[0m \u001b[38;5;28;01mdef\u001b[39;00m \u001b[38;5;21minteractiveStep\u001b[39m(\u001b[38;5;28mself\u001b[39m, action):\n\u001b[1;32m     67\u001b[0m     \u001b[38;5;124;03m\"\"\"\u001b[39;00m\n\u001b[1;32m     68\u001b[0m \u001b[38;5;124;03m    @brief              :   Function that returns data based on the results of Mario's decision.\u001b[39;00m\n\u001b[1;32m     69\u001b[0m \u001b[38;5;124;03m    @return state       :   Game data based on Mario's decision-making results \u001b[39;00m\n\u001b[1;32m     70\u001b[0m \u001b[38;5;124;03m    @return reward      :   Reward Value based on Mario's decision-making results \u001b[39;00m\n\u001b[1;32m     71\u001b[0m \u001b[38;5;124;03m    @return done        :   Whether to reset the game according to the results of Mario's decision\u001b[39;00m\n\u001b[1;32m     72\u001b[0m \u001b[38;5;124;03m    \"\"\"\u001b[39;00m\n\u001b[0;32m---> 73\u001b[0m     \u001b[38;5;28;01mreturn\u001b[39;00m \u001b[38;5;28;43mself\u001b[39;49m\u001b[38;5;241;43m.\u001b[39;49m\u001b[43mactionCoordinator\u001b[49m\u001b[38;5;241;43m.\u001b[39;49m\u001b[43msetStep\u001b[49m\u001b[43m(\u001b[49m\u001b[43maction\u001b[49m\u001b[43m)\u001b[49m\n",
      "File \u001b[0;32m/home/conda/superMario/Enjoy_Math/supermario/controller/coordinator/superMarioActionCoordinator.py:49\u001b[0m, in \u001b[0;36msuperMarioActionCoordinator.setStep\u001b[0;34m(self, action)\u001b[0m\n\u001b[1;32m     41\u001b[0m \u001b[38;5;124;03m\"\"\"\u001b[39;00m\n\u001b[1;32m     42\u001b[0m \u001b[38;5;124;03mTODO                :   Connect to reinforcement learning logic for Mario's decision making  \u001b[39;00m\n\u001b[1;32m     43\u001b[0m \u001b[38;5;124;03m@brief              :   Function that returns data based on the results of Mario's decision.\u001b[39;00m\n\u001b[0;32m   (...)\u001b[0m\n\u001b[1;32m     46\u001b[0m \u001b[38;5;124;03m@return done        :   Whether to reset the game according to the results of Mario's decision as Boolean(dictonary[2])\u001b[39;00m\n\u001b[1;32m     47\u001b[0m \u001b[38;5;124;03m\"\"\"\u001b[39;00m\n\u001b[1;32m     48\u001b[0m \u001b[38;5;28mself\u001b[39m\u001b[38;5;241m.\u001b[39mmodelController\u001b[38;5;241m.\u001b[39mmemory_update()\n\u001b[0;32m---> 49\u001b[0m \u001b[38;5;28mself\u001b[39m\u001b[38;5;241m.\u001b[39mstepNum \u001b[38;5;241m+\u001b[39m\u001b[38;5;241m=\u001b[39m \u001b[38;5;241m1\u001b[39m\n\u001b[1;32m     50\u001b[0m \u001b[38;5;66;03m## TODO connect to reenforcement Logic\u001b[39;00m\n\u001b[1;32m     51\u001b[0m \u001b[38;5;28;01mreturn\u001b[39;00m \u001b[38;5;28mself\u001b[39m\u001b[38;5;241m.\u001b[39mviewController\u001b[38;5;241m.\u001b[39mstep(action)\n",
      "\u001b[0;31mAttributeError\u001b[0m: 'superMarioActionCoordinator' object has no attribute 'stepNum'"
     ]
    }
   ],
   "source": [
    "for i in range(3):\n",
    "    state, reward, done = mario.set_action_and_step(1)\n",
    "#    mario.set_action_and_step(1)\n",
    "    print(reward)"
   ]
  },
  {
   "cell_type": "code",
   "execution_count": 7,
   "id": "8b29f906",
   "metadata": {},
   "outputs": [],
   "source": [
    "mario.reset_env()"
   ]
  },
  {
   "cell_type": "code",
   "execution_count": null,
   "id": "c1d8a79b",
   "metadata": {},
   "outputs": [],
   "source": []
  }
 ],
 "metadata": {
  "kernelspec": {
   "display_name": "Python 3 (ipykernel)",
   "language": "python",
   "name": "python3"
  },
  "language_info": {
   "codemirror_mode": {
    "name": "ipython",
    "version": 3
   },
   "file_extension": ".py",
   "mimetype": "text/x-python",
   "name": "python",
   "nbconvert_exporter": "python",
   "pygments_lexer": "ipython3",
   "version": "3.8.13"
  }
 },
 "nbformat": 4,
 "nbformat_minor": 5
}
